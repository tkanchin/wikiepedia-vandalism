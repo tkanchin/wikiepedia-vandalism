{
 "cells": [
  {
   "cell_type": "code",
   "execution_count": 35,
   "metadata": {
    "collapsed": true
   },
   "outputs": [],
   "source": [
    "import numpy as np\n",
    "import pandas as pd\n",
    "import matplotlib.pyplot as plt\n",
    "%matplotlib inline\n",
    "import operator"
   ]
  },
  {
   "cell_type": "code",
   "execution_count": 36,
   "metadata": {
    "collapsed": false
   },
   "outputs": [],
   "source": [
    "def main():\n",
    "    new_dict = {}\n",
    "    for i in range(1, 13):\n",
    "        f = open('benign_2013_'+ str(i) + '.csv', 'r')\n",
    "        f1 = open('vandal_2013_'+ str(i) + '.csv', 'r')\n",
    "        benign = vandal = 0\n",
    "        lines = f.readlines() #array\n",
    "        lines1 = f1.readlines() #array\n",
    "        for line in lines:\n",
    "            if line in ['\\n', '\\r\\n']:\n",
    "                benign += 1\n",
    "        for line in lines1:\n",
    "            if line in ['\\n', '\\r\\n']:\n",
    "                vandal += 1\n",
    "        new_dict[i] = (benign, vandal)\n",
    "    new_dict = sorted(new_dict.items(), key=operator.itemgetter(0))\n",
    "    freq_data = []\n",
    "    for i in new_dict:\n",
    "        k , val = i\n",
    "        benign, vandal = val\n",
    "        freq_data.append(\"{State:'\" + str(k) + \"', freq: { Vandal: \" + str(benign) + \", Benign: \" + str(vandal) + \"}}\")\n",
    "    print ','.join(freq_data)\n",
    "    \n"
   ]
  },
  {
   "cell_type": "code",
   "execution_count": null,
   "metadata": {
    "collapsed": false
   },
   "outputs": [],
   "source": []
  },
  {
   "cell_type": "code",
   "execution_count": null,
   "metadata": {
    "collapsed": false
   },
   "outputs": [],
   "source": []
  },
  {
   "cell_type": "code",
   "execution_count": null,
   "metadata": {
    "collapsed": false
   },
   "outputs": [],
   "source": []
  },
  {
   "cell_type": "code",
   "execution_count": null,
   "metadata": {
    "collapsed": true
   },
   "outputs": [],
   "source": []
  },
  {
   "cell_type": "code",
   "execution_count": null,
   "metadata": {
    "collapsed": true
   },
   "outputs": [],
   "source": []
  }
 ],
 "metadata": {
  "kernelspec": {
   "display_name": "Python 2",
   "language": "python",
   "name": "python2"
  },
  "language_info": {
   "codemirror_mode": {
    "name": "ipython",
    "version": 2
   },
   "file_extension": ".py",
   "mimetype": "text/x-python",
   "name": "python",
   "nbconvert_exporter": "python",
   "pygments_lexer": "ipython2",
   "version": "2.7.12"
  }
 },
 "nbformat": 4,
 "nbformat_minor": 0
}
